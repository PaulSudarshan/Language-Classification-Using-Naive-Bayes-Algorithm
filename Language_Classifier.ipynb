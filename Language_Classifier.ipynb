{
 "cells": [
  {
   "cell_type": "markdown",
   "metadata": {
    "ExecuteTime": {
     "end_time": "2020-02-19T11:23:20.365409Z",
     "start_time": "2020-02-19T11:23:20.354206Z"
    }
   },
   "source": [
    "# Language Classification with Naive Bayes in Python"
   ]
  },
  {
   "cell_type": "markdown",
   "metadata": {},
   "source": [
    "## Problem Statement\n",
    "\n"
   ]
  },
  {
   "cell_type": "code",
   "execution_count": 101,
   "metadata": {},
   "outputs": [],
   "source": [
    "import matplotlib\n",
    "%matplotlib inline\n",
    "%config InlineBackend.figure_format = 'svg'\n",
    "import matplotlib.pyplot as plt\n",
    "plt.style.use('ggplot')\n",
    "\n",
    "import numpy as np\n",
    "import string\n",
    "\n",
    "from collections import defaultdict\n",
    "\n",
    "from sklearn.metrics import f1_score\n",
    "from sklearn.naive_bayes import MultinomialNB\n",
    "from sklearn.feature_extraction.text import CountVectorizer\n",
    "\n",
    "import joblib\n",
    "import pickle as pkl\n",
    "# from yellowbrick.classifier import ConfusionMatrix"
   ]
  },
  {
   "cell_type": "markdown",
   "metadata": {},
   "source": [
    "<a id='intro'></a>\n",
    "# Introduction"
   ]
  },
  {
   "cell_type": "code",
   "execution_count": null,
   "metadata": {},
   "outputs": [],
   "source": []
  },
  {
   "cell_type": "markdown",
   "metadata": {},
   "source": []
  },
  {
   "cell_type": "code",
   "execution_count": null,
   "metadata": {},
   "outputs": [],
   "source": []
  },
  {
   "cell_type": "markdown",
   "metadata": {},
   "source": [
    "<a id='task1'></a>\n",
    "# Task 1: Data Exploration and Visualization"
   ]
  },
  {
   "cell_type": "code",
   "execution_count": 49,
   "metadata": {
    "ExecuteTime": {
     "end_time": "2020-02-19T11:23:20.494486Z",
     "start_time": "2020-02-19T11:23:20.491600Z"
    }
   },
   "outputs": [],
   "source": [
    "def open_file(filename):\n",
    "    with open(filename, 'r',encoding=\"utf8\") as f:\n",
    "        data = f.readlines()\n",
    "    return data"
   ]
  },
  {
   "cell_type": "code",
   "execution_count": 50,
   "metadata": {
    "ExecuteTime": {
     "end_time": "2020-02-19T11:23:20.654712Z",
     "start_time": "2020-02-19T11:23:20.651474Z"
    }
   },
   "outputs": [],
   "source": [
    "data_raw = dict()\n",
    "data_raw['sk'] =  open_file('Data/Sentences/train_sentences.sk')\n",
    "data_raw['cs'] =  open_file('Data/Sentences/train_sentences.cs')\n",
    "data_raw['en'] =  open_file('Data/Sentences/train_sentences.en')"
   ]
  },
  {
   "cell_type": "code",
   "execution_count": 51,
   "metadata": {},
   "outputs": [
    {
     "data": {
      "text/plain": [
       "['I can understand your approach a little bit.\\n',\n",
       " 'Membership of Parliament: see Minutes\\n',\n",
       " 'The establishment of a joint EU resettlement programme (\\n',\n",
       " 'Decentralisation is very important for sustainable energy.\\n',\n",
       " 'A majority rejected these solutions and wishes to stay in Bosnia.\\n',\n",
       " '(RO) At the start of the year, the unemployment rate reached 10%, while the deficit has grown in numerous Member States.\\n',\n",
       " 'We are, as honourable Members know, supporting projects worldwide in the fight against racism, xenophobia or discrimination on any ground.\\n',\n",
       " 'Agenda for next sitting: see Minutes\\n',\n",
       " 'In addition, communities should be supported both financially and by specific solutions on the regional level, in order to improve the level of communal services.\\n',\n",
       " 'This includes all commercial aspects of exploitation as well as the legal, contractual and financing structures of the different exploitation models that will ensure that a stable governance model is put into place.\\n',\n",
       " 'Therefore, it is high time that we start acting decisively and collectively on ways to counter this new, very catastrophic, form of terrorism in Europe.\\n',\n",
       " \"The integration which we hear so much about must not consist of our dispensing with Christmas, Easter, St. Nicholas's day and so forth in our kindergartens and schools in an attempt to accommodate Muslim immigrants, for this would result in a loss of our cultural identity.\\n\",\n",
       " 'It is strange, is it not, in an age in which personal identity is being jealously guarded and identity theft is regarded as the crime it is, that some people thoughtlessly seek to destroy the unique identity of the institutions which made them what they are, denying others the education they acquired there?\\n',\n",
       " 'I therefore congratulate the Court of Auditors on its excellent performance in 2009 and agree with the rapporteur with regard to all his conclusions.\\n',\n",
       " 'But what happened in the 10 years between 1998 and 2008, when the euro was in situ and Mr Trichet and his predecessors were pursuing their policies, was that almost 16 million jobs were created.\\n',\n",
       " 'She has been a good leader in the negotiations and has also listened to the other groups.\\n',\n",
       " 'EU citizens must be very careful when purchasing medicines online, because here the chances of acquiring falsified medicines increases by up to 50%.\\n',\n",
       " 'We have no desire to keep talking to a brick wall.\\n',\n",
       " 'Trafficking in people, including children, for money, for pleasure, for organs, is increasing with each year that passes.\\n',\n",
       " 'Finally - I am about to conclude, Mr President - I would like to mention our insistence on the application and implementation of measures that have already been announced, be it the Institute for Equality, the Centre on Violence or the full application of existing directives, so that we can make the emancipation of women and their personal and professional fulfilment the central goal of our initiative and the strategy itself.\\n',\n",
       " \"They are often held together by force, and the army's power is great.\\n\",\n",
       " 'This affects ports and the hinterland in particular, which have been neglected in recent years and now form the main focus of this report.\\n',\n",
       " '(IT) Mr President, Commissioner, Minister, ladies and gentlemen, through this new regulation on textile product labelling, which we will vote on in plenary tomorrow, Europe will reach an objective it has been pursuing for years.\\n',\n",
       " 'What we are currently experiencing, Mr President, is not, in my opinion, a monetary crisis in the Union, it is not even a crisis of our single currency; rather, it is a crisis of EU governance.\\n',\n",
       " 'Mr Mladenov and others have pointed out that the responsibility for security, that is to say for establishing a secure situation in Iraq, rests primarily with the Iraqi authorities.\\n',\n",
       " 'Experience from the first assessment of the national action plans demonstrates in practice that conditions in the EU have not yet matured to the point at which measures to promote energy efficiency can be supported.\\n',\n",
       " 'On his behalf, I thank the Commissioner for his answer to the question.\\n',\n",
       " 'It really does look like we only pay attention to the interests of financial institutions, to speculators and to big business.\\n',\n",
       " 'The ICTY has shown that no one, whatever their position or status at the time of the conflict, is immune from justice - a precedent that now sees the International Criminal Court promote respect for human rights across our world.\\n',\n",
       " 'Why do we need it?\\n',\n",
       " 'I hope that the Austrian Federal Government will soon find a fair solution that satisfies the eminently well protected Slovenian minority in Austria.\\n',\n",
       " 'Moreover, I was informed that you wished to speak on a different subject.\\n',\n",
       " 'We have been told that it was not a NATO vessel, that it was not the Charles de Gaulle.\\n',\n",
       " 'I hope, Madam Commissioner, that you will be returning to the Commission and that in the new Parliament session you will bring forward a proposal on needle-stick injuries, which is very important for many health-care workers and is a very avoidable problem in our health-care system.\\n',\n",
       " \"(IT) Madam President, when, a century ago, Antonio Meucci's patent was not recognised by the American telephony industry, it was not because of a lack of English or his use of Italian, but instead the failure to meet a condition: he did not have the money to register his patent for another year.\\n\",\n",
       " 'Where Mikhail Khodorkovsky and Platon Lebedev are concerned, I would state that these individuals must at last be freed - otherwise the state visit by the Russian President to the European Parliament will take place under a huge cloud.\\n',\n",
       " 'We welcome cooperation between Member States in dealing with these huge problems.\\n',\n",
       " 'This is the challenge facing us.\\n',\n",
       " 'If there are not 27 of us to make up this civil protection force, let us start with 12 or 15 of us.\\n',\n",
       " \"(FR) Mr President, I would like to continue with the argument from my speech yesterday on the preparations for the Copenhagen summit, and then mention yesterday's Ecofin meeting, which was not hugely successful.\\n\",\n",
       " 'It is true that, when negotiating with you, we always know where we are.\\n',\n",
       " 'I would also like to stress the importance of measures such as the certification of skills, professional training, incentives for job creation and the opportunity to gain new experience in the workplace.\\n',\n",
       " 'They produce forged notes and coins of such high quality, which even have imitations of the security features, that the man on the street is easily taken in by the forged 50-euro notes.\\n',\n",
       " \"Highlighting the synergies between the different agents involved, developing young people's independence, taking action to stop young people leaving education early, reasserting the importance of vocational training and apprenticeships, adopting a binding European quality framework for training schemes: these are the kinds of good ideas that it is important for us to air now at national level.\\n\",\n",
       " 'Mr Brok, what is the difference between the Goldstone report and the resolution that followed?\\n',\n",
       " 'Otherwise, the legitimate call for respect for a minority is in danger of turning into a form of reverse discrimination, to the detriment of all those honest citizens who suffer the crimes and abuses of many Roma.\\n',\n",
       " 'The directive takes into consideration the specific social circumstances of the individual Member States.\\n',\n",
       " \"How does the Czech Presidency assess today's vote in Parliament with regard to the European creative artists who want to protect their rights on the Internet?\\n\",\n",
       " 'Important progress has been made, but it is still not enough.\\n',\n",
       " 'I would also like to congratulate, in particular, Mr Barrot and his services for this procedure to push forward the preparation of the legislation.\\n',\n",
       " 'The European Union is back on its feet.\\n',\n",
       " 'I would like to congratulate Mrs Meissner on this positive report.\\n',\n",
       " 'Obviously that does not set a precedent for the future, because all the really important issues concerning the changes to the Treaty, such as for example the electoral procedure, would require the convening of a convention.\\n',\n",
       " 'What are the national governments waiting for?\\n',\n",
       " 'I would like to mention one further point that was important in the debate regarding whether or not we should vote in favour.\\n',\n",
       " '(PL) Mr President, Mr Diamandouros, as in previous years, the Ombudsman has presented a very objective report of his activities, from which can be established how important his mission is for the citizens of the European Union.\\n',\n",
       " 'The debate is closed.\\n',\n",
       " 'I voted in favour of it and I consider it to be excellent.\\n',\n",
       " '(IT) Mr President, ladies and gentlemen, the principal actions planned for 2009 can mainly be supported, as regards the growth and jobs provided for by the Lisbon Strategy.\\n',\n",
       " 'This poses an enormous challenge to the political system in the European Union and the Member States.\\n',\n",
       " 'These instruments have proven popular with consumers and producers alike.\\n',\n",
       " 'Ladies and gentlemen, your Excellencies, ladies and gentlemen.\\n',\n",
       " \"Since I know this is a matter of political concern, let me add a final comment on Hungary's media law.\\n\",\n",
       " 'The Martin report is the best example of this approach.\\n',\n",
       " 'Yet again, the small-business entrepreneur is being targeted and disadvantaged by bureaucratic interference and overregulation.\\n',\n",
       " 'It is very kind of you to mention this.\\n',\n",
       " 'I should like to see the EU push further ahead with this in the context of climate protection, and I hope that we can convince all the other major competing airlines to join this agreement.\\n',\n",
       " 'I want to thank you also for having very generously given the Commission the possibility, for 2008, of straight away having EUR 10 000 more in the budget for the Palestinians.\\n',\n",
       " 'The points that we think are important are also mentioned in the resolution that is currently on the table.\\n',\n",
       " 'Particularly distressing is the unannounced limited access to interpretation during hearings or voting when discussing verbal amendments.\\n',\n",
       " 'I have problems with Turkey when I look at its behaviour towards Berlin and when I consider Cyprus, religious freedom, freedom of opinion, the ban on political parties and similar issues.\\n',\n",
       " \"This is an essential part of the EU's ability to accept new Member States, and also a factor in increasing trust in Europe among its citizens.\\n\",\n",
       " 'We need to find a certain balance, which will safeguard both the rights of patients - who are not merely consumers - to cross-frontier care, and equal access for all to quality care, with solidarity-based responsibility; to ensure social and territorial cohesion and respect for the principle of subsidiarity.\\n',\n",
       " 'It is important that all the Member States pursue the declared objectives both jointly and individually, so that a high level of employment and productivity can be achieved in Europe.\\n',\n",
       " 'There is unjustified use of the issue of loss of employability.\\n',\n",
       " \"European viticulture is the last part of our agricultural policy that is still not reformed and still works on the principle of 'the higher the yield, the more money from Brussels'.\\n\",\n",
       " 'But it is also worth pointing out that our development aid in the past did focus on agriculture and food production, as other speakers have mentioned, and, tragically, in latter years we have drawn away from looking at the importance of production agriculture in the developing world.\\n',\n",
       " 'Although it has occurred in the United States, i.e. under American regulatory requirements and standards, we must all learn some lessons from it and prevent any similar accidents.\\n',\n",
       " '(HU) Mr President, the fact that we have avoided a poor compromise on the issue of climate change is very important.\\n',\n",
       " 'We are growing increasingly concerned about the progress of the democratisation process in Turkey.\\n',\n",
       " 'Thirdly, the legal authority of producer organisations must be significantly improved.\\n',\n",
       " 'I am among those who are fiercely attached to the spirit of the Barcelona Process, who believe that progress is not measured solely by trade statistics, which are, incidentally, still too unfavourable to our partners from the South, to their populations.\\n',\n",
       " 'A monument commemorating the soldiers of the murderous Waffen SS Galizien Division was unveiled there.\\n',\n",
       " 'The report by Mr Toubon is an accurate report which sets out the areas on which EU legislation and policy should concentrate to improve the operation of the internal market.\\n',\n",
       " 'Does a political agreement refer to a first-reading agreement or to preparations for an early second-reading agreement under the French Presidency?\\n',\n",
       " 'I welcome this, and it means we can also be happy with the result.\\n',\n",
       " '(FR) Madam President, I hope that I have responded to all the comments, and I would like once again to thank all Members for their words of encouragement, and also to congratulate you, Madam President, as the Commissioner has already done, for the important initiative aiming to approve a joint register for Parliament and the Commission.\\n',\n",
       " \"All's well that ends well.\\n\",\n",
       " 'The debate is closed.\\n',\n",
       " 'While very keen to see healthy eating habits promoted among youngsters in the UK and the EU, we have reservations about the budgetary allocations proposed in this report, which are considerably greater than the EUR 90 million proposed by the Commission.\\n',\n",
       " '(SK) I will try to be brief, in order to keep to the limit.\\n',\n",
       " 'Of course, these provisions must not merely exist on paper, but must also be applied in practice in a consistent manner throughout Europe.\\n',\n",
       " 'And that will provide much stronger tools and infrastructure to carry out the tests next time in a more unified, rigorous and coherent manner.\\n',\n",
       " 'President of the European Commission. - Let me also start by conveying, on behalf of the Commission, our fullest admiration, respect and solidarity with the Japanese people.\\n',\n",
       " 'We are now seven years into the process.\\n',\n",
       " 'I was one of the first people from our group to witness this within the Committee on Employment and Social Affairs, and I thank you warmly.\\n',\n",
       " 'We are acting within the scope of our prerogatives and we therefore expect the Council to adopt a responsible political attitude that is similar to our own.\\n',\n",
       " 'Orlando Zapata, a Cuban political prisoner, died having staged a hunger strike.\\n',\n",
       " 'I would like once more to make it quite clear that the use of these weapons, including in countries where the European Union has police and military forces in operation, such as Afghanistan, Bosnia and the Democratic Republic of Congo, represent just as much of a danger to our mission as to the people themselves.\\n',\n",
       " 'I am grateful to Parliament for what it has already done and for what it will do in the future, now that it will colegislate on the area of justice and security.\\n']"
      ]
     },
     "execution_count": 51,
     "metadata": {},
     "output_type": "execute_result"
    }
   ],
   "source": [
    "data_raw['en']"
   ]
  },
  {
   "cell_type": "code",
   "execution_count": 52,
   "metadata": {},
   "outputs": [],
   "source": [
    "def show_statistics(data):\n",
    "    for language, sentences in data.items():\n",
    "        \n",
    "        word_list = ' '.join(sentences).split()\n",
    "        \n",
    "        number_of_sentences = len(sentences)\n",
    "        number_of_words = len(word_list)\n",
    "        number_of_unique_words = len(set(word_list))\n",
    "        sample_extract = ''.join(sentences[0].split(' ')[:7])\n",
    "    \n",
    "        print(f'Language: {language}')\n",
    "        print('-----------------------')\n",
    "        print(f'Number of sentences\\t:\\t {number_of_sentences}')\n",
    "        print(f'Number of words\\t\\t:\\t {number_of_words}')\n",
    "        print(f'Number of unique words\\t:\\t {number_of_unique_words}')\n",
    "        print(f'Sample extract\\t\\t:\\t {sample_extract}...\\n')"
   ]
  },
  {
   "cell_type": "code",
   "execution_count": 53,
   "metadata": {},
   "outputs": [
    {
     "name": "stdout",
     "output_type": "stream",
     "text": [
      "Language: sk\n",
      "-----------------------\n",
      "Number of sentences\t:\t 100\n",
      "Number of words\t\t:\t 2016\n",
      "Number of unique words\t:\t 1322\n",
      "Sample extract\t\t:\t PándeGrandesPascualjasnevysvetlil,aká...\n",
      "\n",
      "Language: cs\n",
      "-----------------------\n",
      "Number of sentences\t:\t 10\n",
      "Number of words\t\t:\t 158\n",
      "Number of unique words\t:\t 141\n",
      "Sample extract\t\t:\t Upozorňujeme,žejejímcílemješetřitpenězi...\n",
      "\n",
      "Language: en\n",
      "-----------------------\n",
      "Number of sentences\t:\t 100\n",
      "Number of words\t\t:\t 2381\n",
      "Number of unique words\t:\t 1037\n",
      "Sample extract\t\t:\t Icanunderstandyourapproachalittle...\n",
      "\n"
     ]
    }
   ],
   "source": [
    "show_statistics(data_raw)"
   ]
  },
  {
   "cell_type": "code",
   "execution_count": null,
   "metadata": {},
   "outputs": [],
   "source": []
  },
  {
   "cell_type": "markdown",
   "metadata": {},
   "source": [
    "<a id='task2'></a>\n",
    "# Task 2: Data Cleaning and Preprocessing"
   ]
  },
  {
   "cell_type": "code",
   "execution_count": 54,
   "metadata": {},
   "outputs": [],
   "source": [
    "def text_process(text):\n",
    "    \n",
    "    preprocessed_text = text\n",
    "    preprocessed_text = text.lower().replace('-',' ')\n",
    "    translation_table = str.maketrans('\\n',' ', string.punctuation+string.digits)\n",
    "    preprocessed_text = preprocessed_text.translate(translation_table)\n",
    "    \n",
    "    return preprocessed_text"
   ]
  },
  {
   "cell_type": "code",
   "execution_count": 55,
   "metadata": {},
   "outputs": [],
   "source": [
    "data_preprocessed = {k: [text_process(sentence) for sentence in v] for k, v in data_raw.items()}"
   ]
  },
  {
   "cell_type": "code",
   "execution_count": 56,
   "metadata": {},
   "outputs": [
    {
     "name": "stdout",
     "output_type": "stream",
     "text": [
      "ORIGINAL STATISTICS\n",
      "Language: sk\n",
      "-----------------------\n",
      "Number of sentences\t:\t 100\n",
      "Number of words\t\t:\t 2016\n",
      "Number of unique words\t:\t 1322\n",
      "Sample extract\t\t:\t PándeGrandesPascualjasnevysvetlil,aká...\n",
      "\n",
      "Language: cs\n",
      "-----------------------\n",
      "Number of sentences\t:\t 10\n",
      "Number of words\t\t:\t 158\n",
      "Number of unique words\t:\t 141\n",
      "Sample extract\t\t:\t Upozorňujeme,žejejímcílemješetřitpenězi...\n",
      "\n",
      "Language: en\n",
      "-----------------------\n",
      "Number of sentences\t:\t 100\n",
      "Number of words\t\t:\t 2381\n",
      "Number of unique words\t:\t 1037\n",
      "Sample extract\t\t:\t Icanunderstandyourapproachalittle...\n",
      "\n",
      "PREPROCESSED STATISTICS :\n",
      "Language: sk\n",
      "-----------------------\n",
      "Number of sentences\t:\t 100\n",
      "Number of words\t\t:\t 1996\n",
      "Number of unique words\t:\t 1207\n",
      "Sample extract\t\t:\t pándegrandespascualjasnevysvetlilaká...\n",
      "\n",
      "Language: cs\n",
      "-----------------------\n",
      "Number of sentences\t:\t 10\n",
      "Number of words\t\t:\t 155\n",
      "Number of unique words\t:\t 133\n",
      "Sample extract\t\t:\t upozorňujemežejejímcílemješetřitpenězi...\n",
      "\n",
      "Language: en\n",
      "-----------------------\n",
      "Number of sentences\t:\t 100\n",
      "Number of words\t\t:\t 2366\n",
      "Number of unique words\t:\t 904\n",
      "Sample extract\t\t:\t icanunderstandyourapproachalittle...\n",
      "\n"
     ]
    }
   ],
   "source": [
    "print('ORIGINAL STATISTICS')\n",
    "show_statistics(data_raw)\n",
    "print('PREPROCESSED STATISTICS :')\n",
    "show_statistics(data_preprocessed)"
   ]
  },
  {
   "cell_type": "markdown",
   "metadata": {},
   "source": [
    "<a id='task3'></a>\n",
    "# Task 3: The Naive Bayes Model"
   ]
  },
  {
   "cell_type": "markdown",
   "metadata": {},
   "source": [
    "**Bayes' Theorem**\n",
    "\n",
    "\\begin{equation}\n",
    "P(A | B)=\\frac{P(B | A) \\times P(A)}{P(B)}\n",
    "\\end{equation}\n",
    "\n",
    "Now, let's translate this theory into our specific problem. In our case, where we want to categorise a sentence `my name is Sudarshan` into one of `sk`, `cs`, or `en`, the following are the probabilities we want to determine.\n",
    "\n",
    "\\begin{equation}\n",
    "P(\\text {sk} | \\text {my name is Sudarshan})=\\frac{P(\\text {my name is Sudarshan} | \\text {sk}) \\times P(\\text {sk})}{P(\\text {my name is Sudarshan})}\n",
    "\\end{equation}\n",
    "\n",
    "\\begin{equation}\n",
    "P(\\text {cs} | \\text {my name is Sudarshan})=\\frac{P(\\text {my name is Sudarshan} | \\text {cs}) \\times P(\\text {cs})}{P(\\text {my name is Sudarshan})}\n",
    "\\end{equation}\n",
    "\n",
    "\\begin{equation}\n",
    "P(\\text {en} | \\text {my name is Sudarshan})=\\frac{P(\\text {my name is Sudarshan} | \\text {en}) \\times P(\\text {en})}{P(\\text {my name is Sudarshan})}\n",
    "\\end{equation}"
   ]
  },
  {
   "cell_type": "markdown",
   "metadata": {},
   "source": [
    "## Unseen Data\n",
    "\n",
    "Since we assume conditional independence across our features, our numerator term for any of the above equations can be broken into the following.\n",
    "\n",
    "\\begin{equation}\n",
    "P(\\text {my name is Sudarshan} | \\text {en}) = P(\\text {my} | \\text {en}) \\times P(\\text {name} | \\text {en}) \\times P(\\text {is} | \\text {en}) \\times P(\\text {Sudarshan} | \\text {en})\n",
    "\\end{equation}"
   ]
  },
  {
   "cell_type": "markdown",
   "metadata": {},
   "source": [
    "## Vectorizing Training Data"
   ]
  },
  {
   "cell_type": "markdown",
   "metadata": {},
   "source": [
    "|Sentence   \t||   my   \t| is \t| I \t| love \t| name \t| it \t| Sudarshan \t|\n",
    "|-----------------\t||:------:\t|:--:\t|:-:\t|:----:\t|:----:\t|:--------:\t|:---:\t|\n",
    "| my name is Sudarshan  \t||    1   \t|  1 \t| 0 \t|   0  \t|   1  \t|     0    \t|  1  \t|\n",
    "| I love it \t||    0   \t|  0 \t| 1 \t|   1  \t|   0  \t|     1    \t|  0  \t|"
   ]
  },
  {
   "cell_type": "code",
   "execution_count": 57,
   "metadata": {
    "ExecuteTime": {
     "end_time": "2020-02-19T11:23:22.635948Z",
     "start_time": "2020-02-19T11:23:22.631151Z"
    }
   },
   "outputs": [],
   "source": [
    "sentences_train, y_train =[], []\n",
    "for k, v in data_preprocessed.items():\n",
    "    for sentence in v:\n",
    "        sentences_train.append(sentence)\n",
    "        y_train.append(k)\n",
    "        "
   ]
  },
  {
   "cell_type": "code",
   "execution_count": 58,
   "metadata": {
    "ExecuteTime": {
     "end_time": "2020-02-19T11:23:22.909139Z",
     "start_time": "2020-02-19T11:23:22.907106Z"
    }
   },
   "outputs": [],
   "source": [
    "vectorizer = CountVectorizer()"
   ]
  },
  {
   "cell_type": "code",
   "execution_count": 59,
   "metadata": {
    "ExecuteTime": {
     "end_time": "2020-02-19T11:23:23.077339Z",
     "start_time": "2020-02-19T11:23:23.067991Z"
    }
   },
   "outputs": [
    {
     "data": {
      "text/plain": [
       "<210x2208 sparse matrix of type '<class 'numpy.int64'>'\n",
       "\twith 3867 stored elements in Compressed Sparse Row format>"
      ]
     },
     "execution_count": 59,
     "metadata": {},
     "output_type": "execute_result"
    }
   ],
   "source": [
    "x_train = vectorizer.fit_transform(sentences_train)\n",
    "x_train"
   ]
  },
  {
   "cell_type": "code",
   "execution_count": null,
   "metadata": {
    "ExecuteTime": {
     "end_time": "2020-02-19T11:23:23.209192Z",
     "start_time": "2020-02-19T11:23:23.206135Z"
    }
   },
   "outputs": [],
   "source": []
  },
  {
   "cell_type": "markdown",
   "metadata": {},
   "source": [
    "## Initializing Model Parameters and Training"
   ]
  },
  {
   "cell_type": "code",
   "execution_count": 60,
   "metadata": {
    "ExecuteTime": {
     "end_time": "2020-02-19T11:23:23.489747Z",
     "start_time": "2020-02-19T11:23:23.485139Z"
    }
   },
   "outputs": [
    {
     "data": {
      "text/plain": [
       "MultinomialNB(alpha=1.0, class_prior=None, fit_prior=True)"
      ]
     },
     "execution_count": 60,
     "metadata": {},
     "output_type": "execute_result"
    }
   ],
   "source": [
    "naive_bayes = MultinomialNB()\n",
    "naive_bayes.fit(x_train,y_train) #alpha is smoothening constant, takes into account unseen literals like name - 'Sudarshan'"
   ]
  },
  {
   "cell_type": "markdown",
   "metadata": {},
   "source": [
    "## Vectorizing Validation Data and Evaluating Model"
   ]
  },
  {
   "cell_type": "code",
   "execution_count": 61,
   "metadata": {
    "ExecuteTime": {
     "end_time": "2020-02-19T11:23:23.636788Z",
     "start_time": "2020-02-19T11:23:23.621292Z"
    }
   },
   "outputs": [],
   "source": [
    "data_val = dict()\n",
    "data_val['sk'] = open_file('Data/Sentences/val_sentences.sk')\n",
    "data_val['cs'] = open_file('Data/Sentences/val_sentences.cs')\n",
    "data_val['en'] = open_file('Data/Sentences/val_sentences.en')\n",
    "\n",
    "data_val_preprocessed = {k: [text_process(sentence) for sentence in v] for k,v in data_val.items()}"
   ]
  },
  {
   "cell_type": "code",
   "execution_count": 62,
   "metadata": {
    "ExecuteTime": {
     "end_time": "2020-02-19T11:23:23.934515Z",
     "start_time": "2020-02-19T11:23:23.759224Z"
    }
   },
   "outputs": [],
   "source": [
    "sentences_val, y_val = [], []\n",
    "for k,v in data_val_preprocessed.items():\n",
    "    for sentence in v:\n",
    "        sentences_val.append(sentence)\n",
    "        y_val.append(k)"
   ]
  },
  {
   "cell_type": "code",
   "execution_count": 63,
   "metadata": {
    "ExecuteTime": {
     "end_time": "2020-02-19T11:23:24.185184Z",
     "start_time": "2020-02-19T11:23:23.936169Z"
    }
   },
   "outputs": [],
   "source": [
    "x_val = vectorizer.transform(sentences_val)"
   ]
  },
  {
   "cell_type": "code",
   "execution_count": 64,
   "metadata": {
    "ExecuteTime": {
     "end_time": "2020-02-19T11:23:24.190168Z",
     "start_time": "2020-02-19T11:23:24.187055Z"
    }
   },
   "outputs": [
    {
     "data": {
      "text/plain": [
       "array(['sk', 'sk', 'sk', ..., 'en', 'en', 'en'], dtype='<U2')"
      ]
     },
     "execution_count": 64,
     "metadata": {},
     "output_type": "execute_result"
    }
   ],
   "source": [
    "predictions = naive_bayes.predict(x_val)\n",
    "predictions"
   ]
  },
  {
   "cell_type": "code",
   "execution_count": 65,
   "metadata": {
    "ExecuteTime": {
     "end_time": "2020-02-19T11:23:24.195726Z",
     "start_time": "2020-02-19T11:23:24.191814Z"
    }
   },
   "outputs": [
    {
     "name": "stdout",
     "output_type": "stream",
     "text": [
      "[[4886    0  114]\n",
      " [4077  534  389]\n",
      " [   0    0 5000]]\n"
     ]
    }
   ],
   "source": [
    "from sklearn.metrics import confusion_matrix\n",
    "print(confusion_matrix(y_val, predictions, labels=['sk','cs','en']))"
   ]
  },
  {
   "cell_type": "code",
   "execution_count": 66,
   "metadata": {},
   "outputs": [
    {
     "data": {
      "text/plain": [
       "0.6149824401040264"
      ]
     },
     "execution_count": 66,
     "metadata": {},
     "output_type": "execute_result"
    }
   ],
   "source": [
    "f1_score(y_val, predictions, average='weighted')"
   ]
  },
  {
   "cell_type": "markdown",
   "metadata": {},
   "source": [
    "<a id='task4'></a>\n",
    "# Task 4: Simple Adjustments and Highlighting Model Shortcomings"
   ]
  },
  {
   "cell_type": "code",
   "execution_count": 67,
   "metadata": {
    "ExecuteTime": {
     "end_time": "2020-02-19T11:30:37.132532Z",
     "start_time": "2020-02-19T11:30:36.951960Z"
    }
   },
   "outputs": [
    {
     "data": {
      "text/plain": [
       "array([[4839,  155,    6],\n",
       "       [2080, 2865,   55],\n",
       "       [   0,   52, 4948]], dtype=int64)"
      ]
     },
     "execution_count": 67,
     "metadata": {},
     "output_type": "execute_result"
    }
   ],
   "source": [
    "naive_bayes = MultinomialNB(alpha= 0.0001, fit_prior = False) \n",
    "#alpha takes care for values which are not present in language dictionary.\n",
    "# fit_prior is false to avoid prior probability otherwise prob will be biased towards 'sk' and 'eng'.Since cs has less sentences.\n",
    "naive_bayes.fit(x_train,y_train)\n",
    "predictions = naive_bayes.predict(x_val)\n",
    "confusion_matrix(y_val,predictions, ['sk','cs','en'])"
   ]
  },
  {
   "cell_type": "code",
   "execution_count": 68,
   "metadata": {},
   "outputs": [
    {
     "data": {
      "text/plain": [
       "0.8368507601649364"
      ]
     },
     "execution_count": 68,
     "metadata": {},
     "output_type": "execute_result"
    }
   ],
   "source": [
    "f1_score(y_val, predictions, average='weighted')"
   ]
  },
  {
   "cell_type": "markdown",
   "metadata": {},
   "source": [
    "<a id='task5'></a>\n",
    "# Task 5: Using Subwords to Shift Perspective"
   ]
  },
  {
   "cell_type": "markdown",
   "metadata": {},
   "source": [
    "**Dummy Dataset**\n",
    "\n",
    "playing ; eating ; play ; reads ; tea\n",
    "\n",
    "**Step 1**\n",
    "\n",
    "Break each word into characters\n",
    "\n",
    "playing > p l a y i n g\n",
    "\n",
    "\n",
    "**Step 2**\n",
    "\n",
    "Find common character sequences\n",
    "\n",
    "ea, ing, play\n",
    "\n",
    "**Step 3**\n",
    "\n",
    "Convert dataset using these subwords into\n",
    "\n",
    "play ing ; ea t ing ; play ; r ea d s ; t ea"
   ]
  },
  {
   "cell_type": "markdown",
   "metadata": {},
   "source": [
    "## get_vocab Function :\n",
    "1. Takes in sentence_train as input and splits each sentence into words.\n",
    "2. Followed by splitting each word into letters and storing them in a dict with their frequency.\n",
    "\n",
    "\n",
    "## get_stats Function :\n",
    "1. Takes in vocab dictionary as input.\n",
    "2. Split each word into letters and store it in symbols.\n",
    "3. Form a dictionary with keys as two frequent letters and values with their frequency.\n",
    "4. Return the pair frequency.\n"
   ]
  },
  {
   "cell_type": "code",
   "execution_count": 69,
   "metadata": {
    "ExecuteTime": {
     "end_time": "2020-02-21T14:31:24.609673Z",
     "start_time": "2020-02-21T14:31:24.591140Z"
    }
   },
   "outputs": [],
   "source": [
    "# taken from https://arxiv.org/abs/1508.07909\n",
    "\n",
    "import re, collections\n",
    "def get_stats(vocab):\n",
    "    pairs = collections.defaultdict(int) \n",
    "    for word, freq in vocab.items():\n",
    "        symbols = word.split()\n",
    "        for i in range(len(symbols)-1):\n",
    "            pairs[symbols[i],symbols[i+1]] += freq \n",
    "    return pairs\n",
    "\n",
    "def merge_vocab(pair, v_in):\n",
    "    v_out = {}\n",
    "    bigram = re.escape(' '.join(pair))\n",
    "    p = re.compile(r'(?<!\\S)' + bigram + r'(?!\\S)')\n",
    "    for word in v_in:\n",
    "        w_out = p.sub(''.join(pair), word)\n",
    "        v_out[w_out] = v_in[word] \n",
    "    return v_out"
   ]
  },
  {
   "cell_type": "code",
   "execution_count": 70,
   "metadata": {
    "ExecuteTime": {
     "end_time": "2020-02-21T14:33:38.592851Z",
     "start_time": "2020-02-21T14:33:38.588298Z"
    }
   },
   "outputs": [],
   "source": [
    "def get_vocab(data):\n",
    "\n",
    "    words = []\n",
    "    for sentence in data:\n",
    "        words.extend(sentence.split())\n",
    "     \n",
    "    vocab = defaultdict(int)\n",
    "    for word in words:\n",
    "        vocab[' '.join(word)] += 1\n",
    "        \n",
    "    return vocab"
   ]
  },
  {
   "cell_type": "code",
   "execution_count": 71,
   "metadata": {
    "ExecuteTime": {
     "end_time": "2020-02-21T14:42:30.908840Z",
     "start_time": "2020-02-21T14:42:30.902323Z"
    }
   },
   "outputs": [],
   "source": [
    "vocab = get_vocab(sentences_train)\n",
    "# vocab"
   ]
  },
  {
   "cell_type": "code",
   "execution_count": 72,
   "metadata": {
    "ExecuteTime": {
     "end_time": "2020-02-21T15:08:23.046799Z",
     "start_time": "2020-02-21T15:08:22.512182Z"
    }
   },
   "outputs": [],
   "source": [
    "# also taken from original paper\n",
    "for i in range(100):\n",
    "    pairs = get_stats(vocab)\n",
    "#     print(pairs)\n",
    "    best = max(pairs, key=pairs.get)\n",
    "#     print(best)\n",
    "    vocab = merge_vocab(best, vocab)\n",
    "     "
   ]
  },
  {
   "cell_type": "code",
   "execution_count": 73,
   "metadata": {
    "ExecuteTime": {
     "end_time": "2020-02-21T15:08:35.050453Z",
     "start_time": "2020-02-21T15:08:35.018188Z"
    }
   },
   "outputs": [],
   "source": [
    "merges = defaultdict(int)\n",
    "for k, v in vocab.items():\n",
    "    for subword in k.split():\n",
    "        if len(subword) >=2:\n",
    "            merges[subword] += v"
   ]
  },
  {
   "cell_type": "code",
   "execution_count": 74,
   "metadata": {
    "ExecuteTime": {
     "end_time": "2020-02-21T15:48:55.818520Z",
     "start_time": "2020-02-21T15:48:55.815608Z"
    }
   },
   "outputs": [],
   "source": [
    "merge_ordered = sorted(merges, key=merges.get, reverse=True)"
   ]
  },
  {
   "cell_type": "code",
   "execution_count": 75,
   "metadata": {},
   "outputs": [],
   "source": [
    "pkl.dump(merge_ordered, open('Data/Auxiliary/merge_ordered.pkl', 'wb'))"
   ]
  },
  {
   "cell_type": "code",
   "execution_count": 76,
   "metadata": {
    "ExecuteTime": {
     "end_time": "2020-02-21T16:00:58.478086Z",
     "start_time": "2020-02-21T16:00:58.474166Z"
    }
   },
   "outputs": [],
   "source": [
    "def split_into_subwords(text):\n",
    "    merges = pkl.load(open('Data/Auxiliary/merge_ordered.pkl', 'rb'))\n",
    "    subwords = []\n",
    "    for word in text.split():\n",
    "        for subword in merges:\n",
    "            subword_count = word.count(subword)\n",
    "            if subword_count > 0:\n",
    "                word = word.replace(subword, ' ')\n",
    "                subwords.extend([subword]*subword_count)\n",
    "    return ' '.join(subwords)4"
   ]
  },
  {
   "cell_type": "code",
   "execution_count": 77,
   "metadata": {
    "ExecuteTime": {
     "end_time": "2020-02-21T16:00:58.872196Z",
     "start_time": "2020-02-21T16:00:58.868568Z"
    }
   },
   "outputs": [
    {
     "data": {
      "text/plain": [
       "'lo na me is an ar'"
      ]
     },
     "execution_count": 77,
     "metadata": {},
     "output_type": "execute_result"
    }
   ],
   "source": [
    "split_into_subwords('Hello My name is Sudarshan')"
   ]
  },
  {
   "cell_type": "code",
   "execution_count": 78,
   "metadata": {},
   "outputs": [],
   "source": [
    "data_preprocessed_subwords = {k: [split_into_subwords(sentence) for sentence in v] for k,v in data_preprocessed.items()}"
   ]
  },
  {
   "cell_type": "code",
   "execution_count": 79,
   "metadata": {
    "ExecuteTime": {
     "end_time": "2020-02-21T17:03:18.258270Z",
     "start_time": "2020-02-21T17:03:18.254862Z"
    }
   },
   "outputs": [
    {
     "name": "stdout",
     "output_type": "stream",
     "text": [
      "Language: sk\n",
      "-----------------------\n",
      "Number of sentences\t:\t 100\n",
      "Number of words\t\t:\t 3431\n",
      "Number of unique words\t:\t 75\n",
      "Sample extract\t\t:\t deandealasneas...\n",
      "\n",
      "Language: cs\n",
      "-----------------------\n",
      "Number of sentences\t:\t 10\n",
      "Number of words\t\t:\t 239\n",
      "Number of unique words\t:\t 59\n",
      "Sample extract\t\t:\t pojemeoržejele...\n",
      "\n",
      "Language: en\n",
      "-----------------------\n",
      "Number of sentences\t:\t 100\n",
      "Number of words\t\t:\t 3863\n",
      "Number of unique words\t:\t 75\n",
      "Sample extract\t\t:\t anstanerouroch...\n",
      "\n"
     ]
    }
   ],
   "source": [
    "show_statistics(data_preprocessed_subwords)"
   ]
  },
  {
   "cell_type": "code",
   "execution_count": 80,
   "metadata": {
    "ExecuteTime": {
     "end_time": "2020-02-21T17:03:45.654014Z",
     "start_time": "2020-02-21T17:03:45.245540Z"
    }
   },
   "outputs": [],
   "source": [
    "data_train_subwords = []\n",
    "for sentence in sentences_train:\n",
    "    data_train_subwords.append(split_into_subwords(sentence))"
   ]
  },
  {
   "cell_type": "code",
   "execution_count": 81,
   "metadata": {
    "ExecuteTime": {
     "end_time": "2020-02-21T17:03:47.710148Z",
     "start_time": "2020-02-21T17:03:47.400758Z"
    }
   },
   "outputs": [],
   "source": [
    "data_val_subwords = []\n",
    "for sentence in sentences_val:\n",
    "    data_val_subwords.append(split_into_subwords(sentence))\n"
   ]
  },
  {
   "cell_type": "code",
   "execution_count": 82,
   "metadata": {},
   "outputs": [],
   "source": [
    "vectorizer = CountVectorizer()"
   ]
  },
  {
   "cell_type": "code",
   "execution_count": 83,
   "metadata": {},
   "outputs": [],
   "source": [
    "x_train = vectorizer.fit_transform(data_train_subwords)\n",
    "x_val = vectorizer.transform(data_val_subwords)"
   ]
  },
  {
   "cell_type": "code",
   "execution_count": 84,
   "metadata": {},
   "outputs": [],
   "source": [
    "naive_bayes = MultinomialNB(alpha= 1.0, fit_prior = False)"
   ]
  },
  {
   "cell_type": "code",
   "execution_count": 85,
   "metadata": {},
   "outputs": [],
   "source": [
    "naive_bayes.fit(x_train,y_train)\n",
    "predictions = naive_bayes.predict(x_val)"
   ]
  },
  {
   "cell_type": "code",
   "execution_count": 91,
   "metadata": {},
   "outputs": [
    {
     "data": {
      "text/plain": [
       "array([[4684,  303,   13],\n",
       "       [1799, 3134,   67],\n",
       "       [  14,   61, 4925]], dtype=int64)"
      ]
     },
     "execution_count": 91,
     "metadata": {},
     "output_type": "execute_result"
    }
   ],
   "source": [
    "confusion_matrix(y_val,predictions,labels=['sk','cs','en'])"
   ]
  },
  {
   "cell_type": "code",
   "execution_count": 87,
   "metadata": {},
   "outputs": [
    {
     "data": {
      "text/plain": [
       "0.8456381060126386"
      ]
     },
     "execution_count": 87,
     "metadata": {},
     "output_type": "execute_result"
    }
   ],
   "source": [
    "f1_score(y_val ,predictions, average='weighted')"
   ]
  },
  {
   "cell_type": "code",
   "execution_count": 88,
   "metadata": {},
   "outputs": [
    {
     "data": {
      "text/plain": [
       "['Data/Vectorizers/final_model.joblib']"
      ]
     },
     "execution_count": 88,
     "metadata": {},
     "output_type": "execute_result"
    }
   ],
   "source": [
    "joblib.dump(naive_bayes, 'Data/Models/final_model.joblib')\n",
    "joblib.dump(vectorizer, 'Data/Vectorizers/final_model.joblib')"
   ]
  },
  {
   "cell_type": "markdown",
   "metadata": {},
   "source": [
    "### EVALUATING OUR LANGUAGE CLASSIFICATION MODEL"
   ]
  },
  {
   "cell_type": "code",
   "execution_count": 89,
   "metadata": {},
   "outputs": [],
   "source": [
    "model = joblib.load('Data/Models/final_model.joblib')\n",
    "vectorizer = joblib.load('Data/Vectorizers/final_model.joblib')"
   ]
  },
  {
   "cell_type": "code",
   "execution_count": 104,
   "metadata": {},
   "outputs": [
    {
     "data": {
      "text/plain": [
       "'cs'"
      ]
     },
     "execution_count": 104,
     "metadata": {},
     "output_type": "execute_result"
    }
   ],
   "source": [
    "text = \"czec a slovenština jsou velmi podobné jazyky.\" #czec and slovak are very similar languages.\n",
    "text = text_process(text)\n",
    "text = [split_into_subwords(text)]\n",
    "text_vectorized = vectorizer.transform(text)\n",
    "\n",
    "model.predict(text_vectorized)[0]"
   ]
  },
  {
   "cell_type": "code",
   "execution_count": null,
   "metadata": {},
   "outputs": [],
   "source": []
  },
  {
   "cell_type": "code",
   "execution_count": null,
   "metadata": {},
   "outputs": [],
   "source": []
  }
 ],
 "metadata": {
  "kernelspec": {
   "display_name": "Python 3",
   "language": "python",
   "name": "python3"
  },
  "language_info": {
   "codemirror_mode": {
    "name": "ipython",
    "version": 3
   },
   "file_extension": ".py",
   "mimetype": "text/x-python",
   "name": "python",
   "nbconvert_exporter": "python",
   "pygments_lexer": "ipython3",
   "version": "3.7.6"
  }
 },
 "nbformat": 4,
 "nbformat_minor": 4
}
