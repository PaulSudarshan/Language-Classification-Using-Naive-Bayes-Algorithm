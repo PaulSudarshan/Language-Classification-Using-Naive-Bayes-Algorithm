{
 "cells": [
  {
   "cell_type": "markdown",
   "metadata": {
    "ExecuteTime": {
     "end_time": "2020-02-19T11:23:20.365409Z",
     "start_time": "2020-02-19T11:23:20.354206Z"
    }
   },
   "source": [
    "# Language Classification with Naive Bayes in Python"
   ]
  },
  {
   "cell_type": "code",
   "execution_count": 7,
   "metadata": {},
   "outputs": [],
   "source": [
    "import matplotlib\n",
    "%matplotlib inline\n",
    "%config InlineBackend.figure_format = 'svg'\n",
    "import matplotlib.pyplot as plt\n",
    "plt.style.use('ggplot')\n",
    "\n",
    "import numpy as np\n",
    "import string\n",
    "\n",
    "from collections import defaultdict\n",
    "\n",
    "from sklearn.metrics import f1_score\n",
    "from sklearn.naive_bayes import MultinomialNB\n",
    "from sklearn.feature_extraction.text import CountVectorizer\n",
    "\n",
    "import joblib\n",
    "import pickle as pkl\n",
    "# from yellowbrick.classifier import ConfusionMatrix"
   ]
  },
  {
   "cell_type": "markdown",
   "metadata": {},
   "source": [
    "<a id='task1'></a>\n",
    "# Data Exploration and Visualization"
   ]
  },
  {
   "cell_type": "code",
   "execution_count": 8,
   "metadata": {
    "ExecuteTime": {
     "end_time": "2020-02-19T11:23:20.494486Z",
     "start_time": "2020-02-19T11:23:20.491600Z"
    }
   },
   "outputs": [],
   "source": [
    "def open_file(filename):\n",
    "    with open(filename, 'r',encoding=\"utf8\") as f:\n",
    "        data = f.readlines()\n",
    "    return data"
   ]
  },
  {
   "cell_type": "code",
   "execution_count": 9,
   "metadata": {
    "ExecuteTime": {
     "end_time": "2020-02-19T11:23:20.654712Z",
     "start_time": "2020-02-19T11:23:20.651474Z"
    }
   },
   "outputs": [],
   "source": [
    "data_raw = dict()\n",
    "data_raw['sk'] =  open_file('Data/Sentences/train_sentences.sk')\n",
    "data_raw['cs'] =  open_file('Data/Sentences/train_sentences.cs')\n",
    "data_raw['en'] =  open_file('Data/Sentences/train_sentences.en')"
   ]
  },
  {
   "cell_type": "code",
   "execution_count": 10,
   "metadata": {},
   "outputs": [
    {
     "data": {
      "text/plain": [
       "'The European Union is back on its feet.\\n'"
      ]
     },
     "execution_count": 10,
     "metadata": {},
     "output_type": "execute_result"
    }
   ],
   "source": [
    "data_raw['en'][50]"
   ]
  },
  {
   "cell_type": "code",
   "execution_count": 11,
   "metadata": {},
   "outputs": [],
   "source": [
    "def show_statistics(data):\n",
    "    for language, sentences in data.items():\n",
    "        \n",
    "        word_list = ' '.join(sentences).split()\n",
    "        \n",
    "        number_of_sentences = len(sentences)\n",
    "        number_of_words = len(word_list)\n",
    "        number_of_unique_words = len(set(word_list))\n",
    "        sample_extract = ''.join(sentences[0].split(' ')[:7])\n",
    "    \n",
    "        print(f'Language: {language}')\n",
    "        print('-----------------------')\n",
    "        print(f'Number of sentences\\t:\\t {number_of_sentences}')\n",
    "        print(f'Number of words\\t\\t:\\t {number_of_words}')\n",
    "        print(f'Number of unique words\\t:\\t {number_of_unique_words}')\n",
    "        print(f'Sample extract\\t\\t:\\t {sample_extract}...\\n')"
   ]
  },
  {
   "cell_type": "code",
   "execution_count": 12,
   "metadata": {},
   "outputs": [
    {
     "name": "stdout",
     "output_type": "stream",
     "text": [
      "Language: sk\n",
      "-----------------------\n",
      "Number of sentences\t:\t 100\n",
      "Number of words\t\t:\t 2016\n",
      "Number of unique words\t:\t 1322\n",
      "Sample extract\t\t:\t PándeGrandesPascualjasnevysvetlil,aká...\n",
      "\n",
      "Language: cs\n",
      "-----------------------\n",
      "Number of sentences\t:\t 10\n",
      "Number of words\t\t:\t 158\n",
      "Number of unique words\t:\t 141\n",
      "Sample extract\t\t:\t Upozorňujeme,žejejímcílemješetřitpenězi...\n",
      "\n",
      "Language: en\n",
      "-----------------------\n",
      "Number of sentences\t:\t 100\n",
      "Number of words\t\t:\t 2381\n",
      "Number of unique words\t:\t 1037\n",
      "Sample extract\t\t:\t Icanunderstandyourapproachalittle...\n",
      "\n"
     ]
    }
   ],
   "source": [
    "show_statistics(data_raw)"
   ]
  },
  {
   "cell_type": "code",
   "execution_count": null,
   "metadata": {},
   "outputs": [],
   "source": []
  },
  {
   "cell_type": "markdown",
   "metadata": {},
   "source": [
    "<a id='task2'></a>\n",
    "# Data Cleaning and Preprocessing"
   ]
  },
  {
   "cell_type": "code",
   "execution_count": 13,
   "metadata": {},
   "outputs": [],
   "source": [
    "def text_process(text):\n",
    "    \n",
    "    preprocessed_text = text\n",
    "    preprocessed_text = text.lower().replace('-',' ')\n",
    "    translation_table = str.maketrans('\\n',' ', string.punctuation+string.digits)\n",
    "    preprocessed_text = preprocessed_text.translate(translation_table)\n",
    "    \n",
    "    return preprocessed_text"
   ]
  },
  {
   "cell_type": "code",
   "execution_count": 14,
   "metadata": {},
   "outputs": [],
   "source": [
    "data_preprocessed = {k: [text_process(sentence) for sentence in v] for k, v in data_raw.items()}"
   ]
  },
  {
   "cell_type": "code",
   "execution_count": 15,
   "metadata": {},
   "outputs": [
    {
     "name": "stdout",
     "output_type": "stream",
     "text": [
      "ORIGINAL STATISTICS\n",
      "Language: sk\n",
      "-----------------------\n",
      "Number of sentences\t:\t 100\n",
      "Number of words\t\t:\t 2016\n",
      "Number of unique words\t:\t 1322\n",
      "Sample extract\t\t:\t PándeGrandesPascualjasnevysvetlil,aká...\n",
      "\n",
      "Language: cs\n",
      "-----------------------\n",
      "Number of sentences\t:\t 10\n",
      "Number of words\t\t:\t 158\n",
      "Number of unique words\t:\t 141\n",
      "Sample extract\t\t:\t Upozorňujeme,žejejímcílemješetřitpenězi...\n",
      "\n",
      "Language: en\n",
      "-----------------------\n",
      "Number of sentences\t:\t 100\n",
      "Number of words\t\t:\t 2381\n",
      "Number of unique words\t:\t 1037\n",
      "Sample extract\t\t:\t Icanunderstandyourapproachalittle...\n",
      "\n",
      "PREPROCESSED STATISTICS :\n",
      "Language: sk\n",
      "-----------------------\n",
      "Number of sentences\t:\t 100\n",
      "Number of words\t\t:\t 1996\n",
      "Number of unique words\t:\t 1207\n",
      "Sample extract\t\t:\t pándegrandespascualjasnevysvetlilaká...\n",
      "\n",
      "Language: cs\n",
      "-----------------------\n",
      "Number of sentences\t:\t 10\n",
      "Number of words\t\t:\t 155\n",
      "Number of unique words\t:\t 133\n",
      "Sample extract\t\t:\t upozorňujemežejejímcílemješetřitpenězi...\n",
      "\n",
      "Language: en\n",
      "-----------------------\n",
      "Number of sentences\t:\t 100\n",
      "Number of words\t\t:\t 2366\n",
      "Number of unique words\t:\t 904\n",
      "Sample extract\t\t:\t icanunderstandyourapproachalittle...\n",
      "\n"
     ]
    }
   ],
   "source": [
    "print('ORIGINAL STATISTICS')\n",
    "show_statistics(data_raw)\n",
    "print('PREPROCESSED STATISTICS :')\n",
    "show_statistics(data_preprocessed)"
   ]
  },
  {
   "cell_type": "markdown",
   "metadata": {},
   "source": [
    "<a id='task3'></a>\n",
    "# The Naive Bayes Model"
   ]
  },
  {
   "cell_type": "markdown",
   "metadata": {},
   "source": [
    "**Bayes' Theorem**\n",
    "\n",
    "\\begin{equation}\n",
    "P(A | B)=\\frac{P(B | A) \\times P(A)}{P(B)}\n",
    "\\end{equation}\n",
    "\n",
    "Now, let's translate this theory into our specific problem. In our case, where we want to categorise a sentence `my name is Sudarshan` into one of `sk`, `cs`, or `en`, the following are the probabilities we want to determine.\n",
    "\n",
    "\\begin{equation}\n",
    "P(\\text {sk} | \\text {my name is Sudarshan})=\\frac{P(\\text {my name is Sudarshan} | \\text {sk}) \\times P(\\text {sk})}{P(\\text {my name is Sudarshan})}\n",
    "\\end{equation}\n",
    "\n",
    "\\begin{equation}\n",
    "P(\\text {cs} | \\text {my name is Sudarshan})=\\frac{P(\\text {my name is Sudarshan} | \\text {cs}) \\times P(\\text {cs})}{P(\\text {my name is Sudarshan})}\n",
    "\\end{equation}\n",
    "\n",
    "\\begin{equation}\n",
    "P(\\text {en} | \\text {my name is Sudarshan})=\\frac{P(\\text {my name is Sudarshan} | \\text {en}) \\times P(\\text {en})}{P(\\text {my name is Sudarshan})}\n",
    "\\end{equation}"
   ]
  },
  {
   "cell_type": "markdown",
   "metadata": {},
   "source": [
    "## Unseen Data\n",
    "\n",
    "Since we assume conditional independence across our features, our numerator term for any of the above equations can be broken into the following.\n",
    "\n",
    "\\begin{equation}\n",
    "P(\\text {my name is Sudarshan} | \\text {en}) = P(\\text {my} | \\text {en}) \\times P(\\text {name} | \\text {en}) \\times P(\\text {is} | \\text {en}) \\times P(\\text {Sudarshan} | \\text {en})\n",
    "\\end{equation}"
   ]
  },
  {
   "cell_type": "markdown",
   "metadata": {},
   "source": [
    "## Vectorizing Training Data"
   ]
  },
  {
   "cell_type": "markdown",
   "metadata": {},
   "source": [
    "|Sentence   \t||   my   \t| is \t| I \t| love \t| name \t| it \t| Sudarshan \t|\n",
    "|-----------------\t||:------:\t|:--:\t|:-:\t|:----:\t|:----:\t|:--------:\t|:---:\t|\n",
    "| my name is Sudarshan  \t||    1   \t|  1 \t| 0 \t|   0  \t|   1  \t|     0    \t|  1  \t|\n",
    "| I love it \t||    0   \t|  0 \t| 1 \t|   1  \t|   0  \t|     1    \t|  0  \t|"
   ]
  },
  {
   "cell_type": "code",
   "execution_count": 16,
   "metadata": {
    "ExecuteTime": {
     "end_time": "2020-02-19T11:23:22.635948Z",
     "start_time": "2020-02-19T11:23:22.631151Z"
    }
   },
   "outputs": [],
   "source": [
    "sentences_train, y_train =[], []\n",
    "for k, v in data_preprocessed.items():\n",
    "    for sentence in v:\n",
    "        sentences_train.append(sentence)\n",
    "        y_train.append(k)\n",
    "        "
   ]
  },
  {
   "cell_type": "code",
   "execution_count": 17,
   "metadata": {
    "ExecuteTime": {
     "end_time": "2020-02-19T11:23:22.909139Z",
     "start_time": "2020-02-19T11:23:22.907106Z"
    }
   },
   "outputs": [],
   "source": [
    "vectorizer = CountVectorizer()"
   ]
  },
  {
   "cell_type": "code",
   "execution_count": 18,
   "metadata": {
    "ExecuteTime": {
     "end_time": "2020-02-19T11:23:23.077339Z",
     "start_time": "2020-02-19T11:23:23.067991Z"
    }
   },
   "outputs": [
    {
     "data": {
      "text/plain": [
       "<210x2208 sparse matrix of type '<class 'numpy.int64'>'\n",
       "\twith 3867 stored elements in Compressed Sparse Row format>"
      ]
     },
     "execution_count": 18,
     "metadata": {},
     "output_type": "execute_result"
    }
   ],
   "source": [
    "x_train = vectorizer.fit_transform(sentences_train)\n",
    "x_train"
   ]
  },
  {
   "cell_type": "code",
   "execution_count": null,
   "metadata": {
    "ExecuteTime": {
     "end_time": "2020-02-19T11:23:23.209192Z",
     "start_time": "2020-02-19T11:23:23.206135Z"
    }
   },
   "outputs": [],
   "source": []
  },
  {
   "cell_type": "markdown",
   "metadata": {},
   "source": [
    "## Initializing Model Parameters and Training"
   ]
  },
  {
   "cell_type": "code",
   "execution_count": 19,
   "metadata": {
    "ExecuteTime": {
     "end_time": "2020-02-19T11:23:23.489747Z",
     "start_time": "2020-02-19T11:23:23.485139Z"
    }
   },
   "outputs": [
    {
     "data": {
      "text/plain": [
       "MultinomialNB(alpha=1.0, class_prior=None, fit_prior=True)"
      ]
     },
     "execution_count": 19,
     "metadata": {},
     "output_type": "execute_result"
    }
   ],
   "source": [
    "naive_bayes = MultinomialNB()\n",
    "naive_bayes.fit(x_train,y_train) #alpha is smoothening constant, takes into account unseen literals like name - 'Sudarshan'"
   ]
  },
  {
   "cell_type": "markdown",
   "metadata": {},
   "source": [
    "## Vectorizing Validation Data and Evaluating Model"
   ]
  },
  {
   "cell_type": "code",
   "execution_count": 20,
   "metadata": {
    "ExecuteTime": {
     "end_time": "2020-02-19T11:23:23.636788Z",
     "start_time": "2020-02-19T11:23:23.621292Z"
    }
   },
   "outputs": [],
   "source": [
    "data_val = dict()\n",
    "data_val['sk'] = open_file('Data/Sentences/val_sentences.sk')\n",
    "data_val['cs'] = open_file('Data/Sentences/val_sentences.cs')\n",
    "data_val['en'] = open_file('Data/Sentences/val_sentences.en')\n",
    "\n",
    "data_val_preprocessed = {k: [text_process(sentence) for sentence in v] for k,v in data_val.items()}"
   ]
  },
  {
   "cell_type": "code",
   "execution_count": 21,
   "metadata": {
    "ExecuteTime": {
     "end_time": "2020-02-19T11:23:23.934515Z",
     "start_time": "2020-02-19T11:23:23.759224Z"
    }
   },
   "outputs": [],
   "source": [
    "sentences_val, y_val = [], []\n",
    "for k,v in data_val_preprocessed.items():\n",
    "    for sentence in v:\n",
    "        sentences_val.append(sentence)\n",
    "        y_val.append(k)"
   ]
  },
  {
   "cell_type": "code",
   "execution_count": 22,
   "metadata": {
    "ExecuteTime": {
     "end_time": "2020-02-19T11:23:24.185184Z",
     "start_time": "2020-02-19T11:23:23.936169Z"
    }
   },
   "outputs": [],
   "source": [
    "x_val = vectorizer.transform(sentences_val)"
   ]
  },
  {
   "cell_type": "code",
   "execution_count": 23,
   "metadata": {
    "ExecuteTime": {
     "end_time": "2020-02-19T11:23:24.190168Z",
     "start_time": "2020-02-19T11:23:24.187055Z"
    }
   },
   "outputs": [
    {
     "data": {
      "text/plain": [
       "array(['sk', 'sk', 'sk', ..., 'en', 'en', 'en'], dtype='<U2')"
      ]
     },
     "execution_count": 23,
     "metadata": {},
     "output_type": "execute_result"
    }
   ],
   "source": [
    "predictions = naive_bayes.predict(x_val)\n",
    "predictions"
   ]
  },
  {
   "cell_type": "code",
   "execution_count": 24,
   "metadata": {
    "ExecuteTime": {
     "end_time": "2020-02-19T11:23:24.195726Z",
     "start_time": "2020-02-19T11:23:24.191814Z"
    }
   },
   "outputs": [
    {
     "name": "stdout",
     "output_type": "stream",
     "text": [
      "[[4886    0  114]\n",
      " [4077  534  389]\n",
      " [   0    0 5000]]\n"
     ]
    }
   ],
   "source": [
    "from sklearn.metrics import confusion_matrix\n",
    "print(confusion_matrix(y_val, predictions, labels=['sk','cs','en']))"
   ]
  },
  {
   "cell_type": "code",
   "execution_count": 25,
   "metadata": {},
   "outputs": [
    {
     "data": {
      "text/plain": [
       "0.6149824401040264"
      ]
     },
     "execution_count": 25,
     "metadata": {},
     "output_type": "execute_result"
    }
   ],
   "source": [
    "f1_score(y_val, predictions, average='weighted')"
   ]
  },
  {
   "cell_type": "markdown",
   "metadata": {},
   "source": [
    "<a id='task4'></a>\n",
    "# Simple Adjustments and Highlighting Model Shortcomings"
   ]
  },
  {
   "cell_type": "code",
   "execution_count": 26,
   "metadata": {
    "ExecuteTime": {
     "end_time": "2020-02-19T11:30:37.132532Z",
     "start_time": "2020-02-19T11:30:36.951960Z"
    }
   },
   "outputs": [
    {
     "data": {
      "text/plain": [
       "array([[4839,  155,    6],\n",
       "       [2080, 2865,   55],\n",
       "       [   0,   52, 4948]], dtype=int64)"
      ]
     },
     "execution_count": 26,
     "metadata": {},
     "output_type": "execute_result"
    }
   ],
   "source": [
    "naive_bayes = MultinomialNB(alpha= 0.0001, fit_prior = False) \n",
    "#alpha takes care for values which are not present in language dictionary.\n",
    "# fit_prior is false to avoid prior probability otherwise prob will be biased towards 'sk' and 'eng'.Since cs has less sentences.\n",
    "naive_bayes.fit(x_train,y_train)\n",
    "predictions = naive_bayes.predict(x_val)\n",
    "confusion_matrix(y_val,predictions, ['sk','cs','en'])"
   ]
  },
  {
   "cell_type": "code",
   "execution_count": 27,
   "metadata": {},
   "outputs": [
    {
     "data": {
      "text/plain": [
       "0.8368507601649364"
      ]
     },
     "execution_count": 27,
     "metadata": {},
     "output_type": "execute_result"
    }
   ],
   "source": [
    "f1_score(y_val, predictions, average='weighted')"
   ]
  },
  {
   "cell_type": "markdown",
   "metadata": {},
   "source": [
    "<a id='task5'></a>\n",
    "# Using Subwords to Shift Perspective"
   ]
  },
  {
   "cell_type": "markdown",
   "metadata": {},
   "source": [
    "**Dummy Dataset**\n",
    "\n",
    "playing ; eating ; play ; reads ; tea\n",
    "\n",
    "**Step 1**\n",
    "\n",
    "Break each word into characters\n",
    "\n",
    "playing > p l a y i n g\n",
    "\n",
    "\n",
    "**Step 2**\n",
    "\n",
    "Find common character sequences\n",
    "\n",
    "ea, ing, play\n",
    "\n",
    "**Step 3**\n",
    "\n",
    "Convert dataset using these subwords into\n",
    "\n",
    "play ing ; ea t ing ; play ; r ea d s ; t ea"
   ]
  },
  {
   "cell_type": "markdown",
   "metadata": {},
   "source": [
    "## get_vocab Function :\n",
    "1. Takes in sentence_train as input and splits each sentence into words.\n",
    "2. Followed by splitting each word into letters and storing them in a dict with their frequency.\n",
    "\n",
    "\n",
    "## get_stats Function :\n",
    "1. Takes in vocab dictionary as input.\n",
    "2. Split each word into letters and store it in symbols.\n",
    "3. Form a dictionary with keys as two frequent letters and values with their frequency.\n",
    "4. Return the pair frequency.\n"
   ]
  },
  {
   "cell_type": "code",
   "execution_count": 28,
   "metadata": {
    "ExecuteTime": {
     "end_time": "2020-02-21T14:31:24.609673Z",
     "start_time": "2020-02-21T14:31:24.591140Z"
    }
   },
   "outputs": [],
   "source": [
    "# taken from https://arxiv.org/abs/1508.07909\n",
    "\n",
    "import re, collections\n",
    "def get_stats(vocab):\n",
    "    pairs = collections.defaultdict(int) \n",
    "    for word, freq in vocab.items():\n",
    "        symbols = word.split()\n",
    "        for i in range(len(symbols)-1):\n",
    "            pairs[symbols[i],symbols[i+1]] += freq \n",
    "    return pairs\n",
    "\n",
    "def merge_vocab(pair, v_in):\n",
    "    v_out = {}\n",
    "    bigram = re.escape(' '.join(pair))\n",
    "    p = re.compile(r'(?<!\\S)' + bigram + r'(?!\\S)')\n",
    "    for word in v_in:\n",
    "        w_out = p.sub(''.join(pair), word)\n",
    "        v_out[w_out] = v_in[word] \n",
    "    return v_out"
   ]
  },
  {
   "cell_type": "code",
   "execution_count": 29,
   "metadata": {
    "ExecuteTime": {
     "end_time": "2020-02-21T14:33:38.592851Z",
     "start_time": "2020-02-21T14:33:38.588298Z"
    }
   },
   "outputs": [],
   "source": [
    "def get_vocab(data):\n",
    "\n",
    "    words = []\n",
    "    for sentence in data:\n",
    "        words.extend(sentence.split())\n",
    "     \n",
    "    vocab = defaultdict(int)\n",
    "    for word in words:\n",
    "        vocab[' '.join(word)] += 1\n",
    "        \n",
    "    return vocab"
   ]
  },
  {
   "cell_type": "code",
   "execution_count": 30,
   "metadata": {
    "ExecuteTime": {
     "end_time": "2020-02-21T14:42:30.908840Z",
     "start_time": "2020-02-21T14:42:30.902323Z"
    }
   },
   "outputs": [],
   "source": [
    "vocab = get_vocab(sentences_train)\n",
    "# vocab"
   ]
  },
  {
   "cell_type": "code",
   "execution_count": 31,
   "metadata": {
    "ExecuteTime": {
     "end_time": "2020-02-21T15:08:23.046799Z",
     "start_time": "2020-02-21T15:08:22.512182Z"
    }
   },
   "outputs": [],
   "source": [
    "# also taken from original paper\n",
    "for i in range(100):\n",
    "    pairs = get_stats(vocab)\n",
    "#     print(pairs)\n",
    "    best = max(pairs, key=pairs.get)\n",
    "#     print(best)\n",
    "    vocab = merge_vocab(best, vocab)\n",
    "     "
   ]
  },
  {
   "cell_type": "code",
   "execution_count": 32,
   "metadata": {
    "ExecuteTime": {
     "end_time": "2020-02-21T15:08:35.050453Z",
     "start_time": "2020-02-21T15:08:35.018188Z"
    }
   },
   "outputs": [],
   "source": [
    "merges = defaultdict(int)\n",
    "for k, v in vocab.items():\n",
    "    for subword in k.split():\n",
    "        if len(subword) >=2:\n",
    "            merges[subword] += v"
   ]
  },
  {
   "cell_type": "code",
   "execution_count": 33,
   "metadata": {
    "ExecuteTime": {
     "end_time": "2020-02-21T15:48:55.818520Z",
     "start_time": "2020-02-21T15:48:55.815608Z"
    }
   },
   "outputs": [],
   "source": [
    "merge_ordered = sorted(merges, key=merges.get, reverse=True)"
   ]
  },
  {
   "cell_type": "code",
   "execution_count": 37,
   "metadata": {},
   "outputs": [],
   "source": [
    "pkl.dump(merge_ordered, open('Data/Auxiliary/merge_ordered.pkl', 'wb'))"
   ]
  },
  {
   "cell_type": "code",
   "execution_count": 38,
   "metadata": {
    "ExecuteTime": {
     "end_time": "2020-02-21T16:00:58.478086Z",
     "start_time": "2020-02-21T16:00:58.474166Z"
    }
   },
   "outputs": [],
   "source": [
    "def split_into_subwords(text):\n",
    "    merges = pkl.load(open('Data/Auxiliary/merge_ordered.pkl', 'rb'))\n",
    "    subwords = []\n",
    "    for word in text.split():\n",
    "        for subword in merges:\n",
    "            subword_count = word.count(subword)\n",
    "            if subword_count > 0:\n",
    "                word = word.replace(subword, ' ')\n",
    "                subwords.extend([subword]*subword_count)\n",
    "    return ' '.join(subwords)"
   ]
  },
  {
   "cell_type": "code",
   "execution_count": 39,
   "metadata": {
    "ExecuteTime": {
     "end_time": "2020-02-21T16:00:58.872196Z",
     "start_time": "2020-02-21T16:00:58.868568Z"
    }
   },
   "outputs": [
    {
     "data": {
      "text/plain": [
       "'lo na me is an ar'"
      ]
     },
     "execution_count": 39,
     "metadata": {},
     "output_type": "execute_result"
    }
   ],
   "source": [
    "split_into_subwords('Hello My name is Sudarshan')"
   ]
  },
  {
   "cell_type": "code",
   "execution_count": 40,
   "metadata": {},
   "outputs": [],
   "source": [
    "data_preprocessed_subwords = {k: [split_into_subwords(sentence) for sentence in v] for k,v in data_preprocessed.items()}"
   ]
  },
  {
   "cell_type": "code",
   "execution_count": 41,
   "metadata": {
    "ExecuteTime": {
     "end_time": "2020-02-21T17:03:18.258270Z",
     "start_time": "2020-02-21T17:03:18.254862Z"
    }
   },
   "outputs": [
    {
     "name": "stdout",
     "output_type": "stream",
     "text": [
      "Language: sk\n",
      "-----------------------\n",
      "Number of sentences\t:\t 100\n",
      "Number of words\t\t:\t 3431\n",
      "Number of unique words\t:\t 75\n",
      "Sample extract\t\t:\t deandealasneas...\n",
      "\n",
      "Language: cs\n",
      "-----------------------\n",
      "Number of sentences\t:\t 10\n",
      "Number of words\t\t:\t 239\n",
      "Number of unique words\t:\t 59\n",
      "Sample extract\t\t:\t pojemeoržejele...\n",
      "\n",
      "Language: en\n",
      "-----------------------\n",
      "Number of sentences\t:\t 100\n",
      "Number of words\t\t:\t 3863\n",
      "Number of unique words\t:\t 75\n",
      "Sample extract\t\t:\t anstanerouroch...\n",
      "\n"
     ]
    }
   ],
   "source": [
    "show_statistics(data_preprocessed_subwords)"
   ]
  },
  {
   "cell_type": "code",
   "execution_count": 42,
   "metadata": {
    "ExecuteTime": {
     "end_time": "2020-02-21T17:03:45.654014Z",
     "start_time": "2020-02-21T17:03:45.245540Z"
    }
   },
   "outputs": [],
   "source": [
    "data_train_subwords = []\n",
    "for sentence in sentences_train:\n",
    "    data_train_subwords.append(split_into_subwords(sentence))"
   ]
  },
  {
   "cell_type": "code",
   "execution_count": 43,
   "metadata": {
    "ExecuteTime": {
     "end_time": "2020-02-21T17:03:47.710148Z",
     "start_time": "2020-02-21T17:03:47.400758Z"
    }
   },
   "outputs": [],
   "source": [
    "data_val_subwords = []\n",
    "for sentence in sentences_val:\n",
    "    data_val_subwords.append(split_into_subwords(sentence))\n"
   ]
  },
  {
   "cell_type": "code",
   "execution_count": 44,
   "metadata": {},
   "outputs": [],
   "source": [
    "vectorizer = CountVectorizer()"
   ]
  },
  {
   "cell_type": "code",
   "execution_count": 45,
   "metadata": {},
   "outputs": [],
   "source": [
    "x_train = vectorizer.fit_transform(data_train_subwords)\n",
    "x_val = vectorizer.transform(data_val_subwords)"
   ]
  },
  {
   "cell_type": "code",
   "execution_count": 46,
   "metadata": {},
   "outputs": [],
   "source": [
    "naive_bayes = MultinomialNB(alpha= 1.0, fit_prior = False)"
   ]
  },
  {
   "cell_type": "code",
   "execution_count": 47,
   "metadata": {},
   "outputs": [],
   "source": [
    "naive_bayes.fit(x_train,y_train)\n",
    "predictions = naive_bayes.predict(x_val)"
   ]
  },
  {
   "cell_type": "code",
   "execution_count": 48,
   "metadata": {},
   "outputs": [
    {
     "data": {
      "text/plain": [
       "array([[4684,  303,   13],\n",
       "       [1799, 3134,   67],\n",
       "       [  14,   61, 4925]], dtype=int64)"
      ]
     },
     "execution_count": 48,
     "metadata": {},
     "output_type": "execute_result"
    }
   ],
   "source": [
    "confusion_matrix(y_val,predictions,labels=['sk','cs','en'])"
   ]
  },
  {
   "cell_type": "code",
   "execution_count": 49,
   "metadata": {},
   "outputs": [
    {
     "data": {
      "text/plain": [
       "0.8456381060126386"
      ]
     },
     "execution_count": 49,
     "metadata": {},
     "output_type": "execute_result"
    }
   ],
   "source": [
    "f1_score(y_val ,predictions, average='weighted')"
   ]
  },
  {
   "cell_type": "code",
   "execution_count": 50,
   "metadata": {},
   "outputs": [
    {
     "data": {
      "text/plain": [
       "['Data/Vectorizers/final_model.joblib']"
      ]
     },
     "execution_count": 50,
     "metadata": {},
     "output_type": "execute_result"
    }
   ],
   "source": [
    "joblib.dump(naive_bayes, 'Data/Models/final_model.joblib')\n",
    "joblib.dump(vectorizer, 'Data/Vectorizers/final_model.joblib')"
   ]
  },
  {
   "cell_type": "markdown",
   "metadata": {},
   "source": [
    "### EVALUATING OUR LANGUAGE CLASSIFICATION MODEL"
   ]
  },
  {
   "cell_type": "code",
   "execution_count": 51,
   "metadata": {},
   "outputs": [],
   "source": [
    "model = joblib.load('Data/Models/final_model.joblib')\n",
    "vectorizer = joblib.load('Data/Vectorizers/final_model.joblib')"
   ]
  },
  {
   "cell_type": "code",
   "execution_count": 52,
   "metadata": {},
   "outputs": [
    {
     "data": {
      "text/plain": [
       "'cs'"
      ]
     },
     "execution_count": 52,
     "metadata": {},
     "output_type": "execute_result"
    }
   ],
   "source": [
    "text = \"czec a slovenština jsou velmi podobné jazyky.\" #czec and slovak are very similar languages.\n",
    "text = text_process(text)\n",
    "text = [split_into_subwords(text)]\n",
    "text_vectorized = vectorizer.transform(text)\n",
    "\n",
    "model.predict(text_vectorized)[0]"
   ]
  },
  {
   "cell_type": "code",
   "execution_count": 53,
   "metadata": {},
   "outputs": [
    {
     "data": {
      "text/plain": [
       "'cs'"
      ]
     },
     "execution_count": 53,
     "metadata": {},
     "output_type": "execute_result"
    }
   ],
   "source": [
    "text = \"Ahoj, pekný deň!\" #Hello, have great day!.\n",
    "text = text_process(text)\n",
    "text = [split_into_subwords(text)]\n",
    "text_vectorized = vectorizer.transform(text)\n",
    "\n",
    "model.predict(text_vectorized)[0]"
   ]
  },
  {
   "cell_type": "code",
   "execution_count": 55,
   "metadata": {},
   "outputs": [
    {
     "data": {
      "text/plain": [
       "'en'"
      ]
     },
     "execution_count": 55,
     "metadata": {},
     "output_type": "execute_result"
    }
   ],
   "source": [
    "text = \"Hello mate! Glad you reached till the end!\" \n",
    "text = text_process(text)\n",
    "text = [split_into_subwords(text)]\n",
    "text_vectorized = vectorizer.transform(text)\n",
    "\n",
    "model.predict(text_vectorized)[0]"
   ]
  },
  {
   "cell_type": "code",
   "execution_count": null,
   "metadata": {},
   "outputs": [],
   "source": []
  }
 ],
 "metadata": {
  "kernelspec": {
   "display_name": "Python 3",
   "language": "python",
   "name": "python3"
  },
  "language_info": {
   "codemirror_mode": {
    "name": "ipython",
    "version": 3
   },
   "file_extension": ".py",
   "mimetype": "text/x-python",
   "name": "python",
   "nbconvert_exporter": "python",
   "pygments_lexer": "ipython3",
   "version": "3.7.6"
  }
 },
 "nbformat": 4,
 "nbformat_minor": 4
}
